{
 "cells": [
  {
   "cell_type": "markdown",
   "metadata": {},
   "source": [
    "## Observations and Insights"
   ]
  },
  {
   "cell_type": "markdown",
   "metadata": {},
   "source": []
  },
  {
   "cell_type": "markdown",
   "metadata": {},
   "source": [
    "## Dependencies and starter code"
   ]
  },
  {
   "cell_type": "code",
   "execution_count": 1,
   "metadata": {},
   "outputs": [
    {
     "data": {
      "text/html": [
       "<div>\n",
       "<style scoped>\n",
       "    .dataframe tbody tr th:only-of-type {\n",
       "        vertical-align: middle;\n",
       "    }\n",
       "\n",
       "    .dataframe tbody tr th {\n",
       "        vertical-align: top;\n",
       "    }\n",
       "\n",
       "    .dataframe thead th {\n",
       "        text-align: right;\n",
       "    }\n",
       "</style>\n",
       "<table border=\"1\" class=\"dataframe\">\n",
       "  <thead>\n",
       "    <tr style=\"text-align: right;\">\n",
       "      <th></th>\n",
       "      <th>Mouse ID</th>\n",
       "      <th>Drug Regimen</th>\n",
       "      <th>Sex</th>\n",
       "      <th>Age_months</th>\n",
       "      <th>Weight (g)</th>\n",
       "      <th>Timepoint</th>\n",
       "      <th>Tumor Volume (mm3)</th>\n",
       "      <th>Metastatic Sites</th>\n",
       "    </tr>\n",
       "  </thead>\n",
       "  <tbody>\n",
       "    <tr>\n",
       "      <th>0</th>\n",
       "      <td>k403</td>\n",
       "      <td>Ramicane</td>\n",
       "      <td>Male</td>\n",
       "      <td>21</td>\n",
       "      <td>16</td>\n",
       "      <td>0</td>\n",
       "      <td>45.000000</td>\n",
       "      <td>0</td>\n",
       "    </tr>\n",
       "    <tr>\n",
       "      <th>1</th>\n",
       "      <td>k403</td>\n",
       "      <td>Ramicane</td>\n",
       "      <td>Male</td>\n",
       "      <td>21</td>\n",
       "      <td>16</td>\n",
       "      <td>5</td>\n",
       "      <td>38.825898</td>\n",
       "      <td>0</td>\n",
       "    </tr>\n",
       "    <tr>\n",
       "      <th>2</th>\n",
       "      <td>k403</td>\n",
       "      <td>Ramicane</td>\n",
       "      <td>Male</td>\n",
       "      <td>21</td>\n",
       "      <td>16</td>\n",
       "      <td>10</td>\n",
       "      <td>35.014271</td>\n",
       "      <td>1</td>\n",
       "    </tr>\n",
       "    <tr>\n",
       "      <th>3</th>\n",
       "      <td>k403</td>\n",
       "      <td>Ramicane</td>\n",
       "      <td>Male</td>\n",
       "      <td>21</td>\n",
       "      <td>16</td>\n",
       "      <td>15</td>\n",
       "      <td>34.223992</td>\n",
       "      <td>1</td>\n",
       "    </tr>\n",
       "    <tr>\n",
       "      <th>4</th>\n",
       "      <td>k403</td>\n",
       "      <td>Ramicane</td>\n",
       "      <td>Male</td>\n",
       "      <td>21</td>\n",
       "      <td>16</td>\n",
       "      <td>20</td>\n",
       "      <td>32.997729</td>\n",
       "      <td>1</td>\n",
       "    </tr>\n",
       "    <tr>\n",
       "      <th>...</th>\n",
       "      <td>...</td>\n",
       "      <td>...</td>\n",
       "      <td>...</td>\n",
       "      <td>...</td>\n",
       "      <td>...</td>\n",
       "      <td>...</td>\n",
       "      <td>...</td>\n",
       "      <td>...</td>\n",
       "    </tr>\n",
       "    <tr>\n",
       "      <th>692</th>\n",
       "      <td>c580</td>\n",
       "      <td>Ketapril</td>\n",
       "      <td>Male</td>\n",
       "      <td>22</td>\n",
       "      <td>25</td>\n",
       "      <td>10</td>\n",
       "      <td>47.570174</td>\n",
       "      <td>1</td>\n",
       "    </tr>\n",
       "    <tr>\n",
       "      <th>693</th>\n",
       "      <td>c580</td>\n",
       "      <td>Ketapril</td>\n",
       "      <td>Male</td>\n",
       "      <td>22</td>\n",
       "      <td>25</td>\n",
       "      <td>15</td>\n",
       "      <td>51.991708</td>\n",
       "      <td>1</td>\n",
       "    </tr>\n",
       "    <tr>\n",
       "      <th>694</th>\n",
       "      <td>c580</td>\n",
       "      <td>Ketapril</td>\n",
       "      <td>Male</td>\n",
       "      <td>22</td>\n",
       "      <td>25</td>\n",
       "      <td>20</td>\n",
       "      <td>55.575322</td>\n",
       "      <td>2</td>\n",
       "    </tr>\n",
       "    <tr>\n",
       "      <th>695</th>\n",
       "      <td>c580</td>\n",
       "      <td>Ketapril</td>\n",
       "      <td>Male</td>\n",
       "      <td>22</td>\n",
       "      <td>25</td>\n",
       "      <td>25</td>\n",
       "      <td>56.289062</td>\n",
       "      <td>2</td>\n",
       "    </tr>\n",
       "    <tr>\n",
       "      <th>696</th>\n",
       "      <td>c580</td>\n",
       "      <td>Ketapril</td>\n",
       "      <td>Male</td>\n",
       "      <td>22</td>\n",
       "      <td>25</td>\n",
       "      <td>30</td>\n",
       "      <td>58.046569</td>\n",
       "      <td>3</td>\n",
       "    </tr>\n",
       "  </tbody>\n",
       "</table>\n",
       "<p>100 rows × 8 columns</p>\n",
       "</div>"
      ],
      "text/plain": [
       "    Mouse ID Drug Regimen   Sex  Age_months  Weight (g)  Timepoint  \\\n",
       "0       k403     Ramicane  Male          21          16          0   \n",
       "1       k403     Ramicane  Male          21          16          5   \n",
       "2       k403     Ramicane  Male          21          16         10   \n",
       "3       k403     Ramicane  Male          21          16         15   \n",
       "4       k403     Ramicane  Male          21          16         20   \n",
       "..       ...          ...   ...         ...         ...        ...   \n",
       "692     c580     Ketapril  Male          22          25         10   \n",
       "693     c580     Ketapril  Male          22          25         15   \n",
       "694     c580     Ketapril  Male          22          25         20   \n",
       "695     c580     Ketapril  Male          22          25         25   \n",
       "696     c580     Ketapril  Male          22          25         30   \n",
       "\n",
       "     Tumor Volume (mm3)  Metastatic Sites  \n",
       "0             45.000000                 0  \n",
       "1             38.825898                 0  \n",
       "2             35.014271                 1  \n",
       "3             34.223992                 1  \n",
       "4             32.997729                 1  \n",
       "..                  ...               ...  \n",
       "692           47.570174                 1  \n",
       "693           51.991708                 1  \n",
       "694           55.575322                 2  \n",
       "695           56.289062                 2  \n",
       "696           58.046569                 3  \n",
       "\n",
       "[100 rows x 8 columns]"
      ]
     },
     "execution_count": 1,
     "metadata": {},
     "output_type": "execute_result"
    }
   ],
   "source": [
    "# Dependencies and Setup\n",
    "import matplotlib.pyplot as plt\n",
    "import pandas as pd\n",
    "import scipy.stats as st\n",
    "import numpy as np\n",
    "\n",
    "max_promising_drgReg = 4\n",
    "\n",
    "# Study data files\n",
    "mouse_metadata = \"data/Mouse_metadata.csv\"\n",
    "study_results = \"data/Study_results.csv\"\n",
    "\n",
    "# Read the mouse data and the study results\n",
    "mouse_metadata = pd.read_csv(mouse_metadata)\n",
    "study_results = pd.read_csv(study_results)\n",
    "\n",
    "# Combine the data into a single dataset\n",
    "comb_data = pd.merge(mouse_metadata, study_results, how='outer',on=\"Mouse ID\")\n",
    "comb_data.to_csv(\"data/combined_data.csv\")\n",
    "\n",
    "# Group combined data as per Drug Regimen\n",
    "drug_grp_data = comb_data.groupby(comb_data['Drug Regimen'])\n",
    "drug_grp_data.head(10)"
   ]
  },
  {
   "cell_type": "code",
   "execution_count": 15,
   "metadata": {},
   "outputs": [],
   "source": [
    "# Extract Tumor Volume column after merging both .csv files for ease of statistical calculations\n",
    "tumor_vol = drug_grp_data[\"Tumor Volume (mm3)\"]"
   ]
  },
  {
   "cell_type": "markdown",
   "metadata": {},
   "source": [
    "## Summary statistics"
   ]
  },
  {
   "cell_type": "code",
   "execution_count": 3,
   "metadata": {},
   "outputs": [
    {
     "data": {
      "text/html": [
       "<div>\n",
       "<style scoped>\n",
       "    .dataframe tbody tr th:only-of-type {\n",
       "        vertical-align: middle;\n",
       "    }\n",
       "\n",
       "    .dataframe tbody tr th {\n",
       "        vertical-align: top;\n",
       "    }\n",
       "\n",
       "    .dataframe thead th {\n",
       "        text-align: right;\n",
       "    }\n",
       "</style>\n",
       "<table border=\"1\" class=\"dataframe\">\n",
       "  <thead>\n",
       "    <tr style=\"text-align: right;\">\n",
       "      <th></th>\n",
       "      <th>Tumor Volume Mean</th>\n",
       "      <th>Tumor Volume Median</th>\n",
       "      <th>Tumor Volume Variance</th>\n",
       "      <th>Tumor Volume Std. Dev.</th>\n",
       "      <th>Tumor Volume Std. Err.</th>\n",
       "      <th>Tumor Volume Total</th>\n",
       "    </tr>\n",
       "    <tr>\n",
       "      <th>Drug Regimen</th>\n",
       "      <th></th>\n",
       "      <th></th>\n",
       "      <th></th>\n",
       "      <th></th>\n",
       "      <th></th>\n",
       "      <th></th>\n",
       "    </tr>\n",
       "  </thead>\n",
       "  <tbody>\n",
       "    <tr>\n",
       "      <th>Capomulin</th>\n",
       "      <td>40.675741</td>\n",
       "      <td>41.557809</td>\n",
       "      <td>24.947764</td>\n",
       "      <td>4.994774</td>\n",
       "      <td>0.329346</td>\n",
       "      <td>9355.420462</td>\n",
       "    </tr>\n",
       "    <tr>\n",
       "      <th>Ceftamin</th>\n",
       "      <td>52.591172</td>\n",
       "      <td>51.776157</td>\n",
       "      <td>39.290177</td>\n",
       "      <td>6.268188</td>\n",
       "      <td>0.469821</td>\n",
       "      <td>9361.228582</td>\n",
       "    </tr>\n",
       "    <tr>\n",
       "      <th>Infubinol</th>\n",
       "      <td>52.884795</td>\n",
       "      <td>51.820584</td>\n",
       "      <td>43.128684</td>\n",
       "      <td>6.567243</td>\n",
       "      <td>0.492236</td>\n",
       "      <td>9413.493529</td>\n",
       "    </tr>\n",
       "    <tr>\n",
       "      <th>Ketapril</th>\n",
       "      <td>55.235638</td>\n",
       "      <td>53.698743</td>\n",
       "      <td>68.553577</td>\n",
       "      <td>8.279709</td>\n",
       "      <td>0.603860</td>\n",
       "      <td>10384.299876</td>\n",
       "    </tr>\n",
       "    <tr>\n",
       "      <th>Naftisol</th>\n",
       "      <td>54.331565</td>\n",
       "      <td>52.509285</td>\n",
       "      <td>66.173479</td>\n",
       "      <td>8.134708</td>\n",
       "      <td>0.596466</td>\n",
       "      <td>10105.671026</td>\n",
       "    </tr>\n",
       "    <tr>\n",
       "      <th>Placebo</th>\n",
       "      <td>54.033581</td>\n",
       "      <td>52.288934</td>\n",
       "      <td>61.168083</td>\n",
       "      <td>7.821003</td>\n",
       "      <td>0.581331</td>\n",
       "      <td>9780.078122</td>\n",
       "    </tr>\n",
       "    <tr>\n",
       "      <th>Propriva</th>\n",
       "      <td>52.322552</td>\n",
       "      <td>50.854632</td>\n",
       "      <td>42.351070</td>\n",
       "      <td>6.507770</td>\n",
       "      <td>0.512884</td>\n",
       "      <td>8423.930878</td>\n",
       "    </tr>\n",
       "    <tr>\n",
       "      <th>Ramicane</th>\n",
       "      <td>40.216745</td>\n",
       "      <td>40.673236</td>\n",
       "      <td>23.486704</td>\n",
       "      <td>4.846308</td>\n",
       "      <td>0.320955</td>\n",
       "      <td>9169.417875</td>\n",
       "    </tr>\n",
       "    <tr>\n",
       "      <th>Stelasyn</th>\n",
       "      <td>54.233149</td>\n",
       "      <td>52.431737</td>\n",
       "      <td>59.450562</td>\n",
       "      <td>7.710419</td>\n",
       "      <td>0.573111</td>\n",
       "      <td>9816.199991</td>\n",
       "    </tr>\n",
       "    <tr>\n",
       "      <th>Zoniferol</th>\n",
       "      <td>53.236507</td>\n",
       "      <td>51.818479</td>\n",
       "      <td>48.533355</td>\n",
       "      <td>6.966589</td>\n",
       "      <td>0.516398</td>\n",
       "      <td>9689.044192</td>\n",
       "    </tr>\n",
       "  </tbody>\n",
       "</table>\n",
       "</div>"
      ],
      "text/plain": [
       "              Tumor Volume Mean  Tumor Volume Median  Tumor Volume Variance  \\\n",
       "Drug Regimen                                                                  \n",
       "Capomulin             40.675741            41.557809              24.947764   \n",
       "Ceftamin              52.591172            51.776157              39.290177   \n",
       "Infubinol             52.884795            51.820584              43.128684   \n",
       "Ketapril              55.235638            53.698743              68.553577   \n",
       "Naftisol              54.331565            52.509285              66.173479   \n",
       "Placebo               54.033581            52.288934              61.168083   \n",
       "Propriva              52.322552            50.854632              42.351070   \n",
       "Ramicane              40.216745            40.673236              23.486704   \n",
       "Stelasyn              54.233149            52.431737              59.450562   \n",
       "Zoniferol             53.236507            51.818479              48.533355   \n",
       "\n",
       "              Tumor Volume Std. Dev.  Tumor Volume Std. Err.  \\\n",
       "Drug Regimen                                                   \n",
       "Capomulin                   4.994774                0.329346   \n",
       "Ceftamin                    6.268188                0.469821   \n",
       "Infubinol                   6.567243                0.492236   \n",
       "Ketapril                    8.279709                0.603860   \n",
       "Naftisol                    8.134708                0.596466   \n",
       "Placebo                     7.821003                0.581331   \n",
       "Propriva                    6.507770                0.512884   \n",
       "Ramicane                    4.846308                0.320955   \n",
       "Stelasyn                    7.710419                0.573111   \n",
       "Zoniferol                   6.966589                0.516398   \n",
       "\n",
       "              Tumor Volume Total  \n",
       "Drug Regimen                      \n",
       "Capomulin            9355.420462  \n",
       "Ceftamin             9361.228582  \n",
       "Infubinol            9413.493529  \n",
       "Ketapril            10384.299876  \n",
       "Naftisol            10105.671026  \n",
       "Placebo              9780.078122  \n",
       "Propriva             8423.930878  \n",
       "Ramicane             9169.417875  \n",
       "Stelasyn             9816.199991  \n",
       "Zoniferol            9689.044192  "
      ]
     },
     "execution_count": 3,
     "metadata": {},
     "output_type": "execute_result"
    }
   ],
   "source": [
    "# Generate a summary statistics table of mean, median, variance, standard deviation, and SEM of the tumor volume for each regimen\n",
    "summary_tbl_df = pd.DataFrame({\n",
    "    \"Tumor Volume Mean\" : tumor_vol.mean(),\n",
    "    \"Tumor Volume Median\" : tumor_vol.median(),\n",
    "    \"Tumor Volume Variance\" : tumor_vol.var(),\n",
    "    \"Tumor Volume Std. Dev.\" : tumor_vol.std(),\n",
    "    \"Tumor Volume Std. Err.\" : tumor_vol.sem(),\n",
    "    \"Tumor Volume Total\" : tumor_vol.sum()\n",
    "})\n",
    "summary_tbl_df"
   ]
  },
  {
   "cell_type": "markdown",
   "metadata": {},
   "source": [
    "## Bar plots"
   ]
  },
  {
   "cell_type": "code",
   "execution_count": 4,
   "metadata": {},
   "outputs": [
    {
     "data": {
      "text/plain": [
       "<function matplotlib.pyplot.show(*args, **kw)>"
      ]
     },
     "execution_count": 4,
     "metadata": {},
     "output_type": "execute_result"
    },
    {
     "data": {
      "image/png": "[encoded data removed]",
      "text/plain": [
       "<Figure size 432x288 with 1 Axes>"
      ]
     },
     "metadata": {
      "needs_background": "light"
     },
     "output_type": "display_data"
    }
   ],
   "source": [
    "# Generate a bar plot showing number of data points for each treatment regimen using pyplot\n",
    "\n",
    "# count data points of each drug regimens and convert to dictionary for ease of plotting\n",
    "data_pt_counts = dict(comb_data[\"Drug Regimen\"].value_counts())\n",
    "\n",
    "# create x-axis tick locations and assign x/y-axis data\n",
    "xtick_loc = [tick for tick in np.arange(len(data_pt_counts))]\n",
    "x_axis = data_pt_counts.keys()\n",
    "y_axis = data_pt_counts.values()\n",
    "\n",
    "# create bar chart and axis labels\n",
    "plt.bar(x_axis, y_axis, alpha=0.75, align = 'center')\n",
    "plt.xticks(xtick_loc, x_axis, rotation='vertical')\n",
    "plt.title(\"Drug Regimen's Data Point Counts\")\n",
    "plt.xlabel(\"Drug Regimen\")\n",
    "plt.ylabel(\"Number of Data Points\")\n",
    "plt.xlim(-1, len(x_axis))\n",
    "plt.ylim(0, max(y_axis)+10)\n",
    "plt.show"
   ]
  },
  {
   "cell_type": "code",
   "execution_count": 5,
   "metadata": {},
   "outputs": [
    {
     "data": {
      "text/plain": [
       "Text(0, 0.5, 'Data Point Counts')"
      ]
     },
     "execution_count": 5,
     "metadata": {},
     "output_type": "execute_result"
    },
    {
     "data": {
      "image/png": "[encoded data removed]",
      "text/plain": [
       "<Figure size 432x288 with 1 Axes>"
      ]
     },
     "metadata": {
      "needs_background": "light"
     },
     "output_type": "display_data"
    }
   ],
   "source": [
    "# Generate a bar plot showing number of data points for each treatment regimen using pandas\n",
    "drug_reg_count = comb_data[\"Drug Regimen\"].value_counts()\n",
    "\n",
    "# create bar chart and axis labels\n",
    "drug_plot = drug_reg_count.plot(kind='bar')\n",
    "drug_plot.set_xlabel(\"Drug Regimen\")\n",
    "drug_plot.set_ylabel(\"Data Point Counts\")\n"
   ]
  },
  {
   "cell_type": "markdown",
   "metadata": {},
   "source": [
    "## Pie plots"
   ]
  },
  {
   "cell_type": "code",
   "execution_count": 6,
   "metadata": {},
   "outputs": [
    {
     "data": {
      "image/png": "[encoded data removed]",
      "text/plain": [
       "<Figure size 432x288 with 1 Axes>"
      ]
     },
     "metadata": {},
     "output_type": "display_data"
    }
   ],
   "source": [
    "# Generate a pie plot showing the distribution of female versus male mice using pandas\n",
    "mice_gender_group = comb_data[\"Sex\"].value_counts()\n",
    "mice_gender_plot_pd = mice_gender_group.plot(kind=\"pie\", autopct=\"%1.1f%%\")\n"
   ]
  },
  {
   "cell_type": "code",
   "execution_count": 7,
   "metadata": {},
   "outputs": [
    {
     "data": {
      "text/plain": [
       "Text(0.5, 1.0, 'Sex')"
      ]
     },
     "execution_count": 7,
     "metadata": {},
     "output_type": "execute_result"
    },
    {
     "data": {
      "image/png": "[encoded data removed]",
      "text/plain": [
       "<Figure size 432x288 with 1 Axes>"
      ]
     },
     "metadata": {},
     "output_type": "display_data"
    }
   ],
   "source": [
    "# Generate a pie plot showing the distribution of female versus male mice using pyplot\n",
    "mice_gender_dict = dict(mice_gender_group)\n",
    "plt.pie(mice_gender_group, autopct=\"%1.1f%%\", shadow=True, labels=mice_gender_dict.keys())\n",
    "plt.title(\"Sex\")"
   ]
  },
  {
   "cell_type": "markdown",
   "metadata": {},
   "source": [
    "## Quartiles, outliers and boxplots"
   ]
  },
  {
   "cell_type": "code",
   "execution_count": 8,
   "metadata": {
    "scrolled": true
   },
   "outputs": [
    {
     "name": "stdout",
     "output_type": "stream",
     "text": [
      "For the Drug Regimen: \u001b[1;34;43m Ramicane \u001b[00m, here are the results:\n",
      "-------------------\n",
      "The Total of Tumor Volume is: \u001b[1;31m9,169\u001b[00m\n",
      "The lower quartile of Tumor Volume is: 36.67\n",
      "The upper quartile of Tumor Volume is: 45.0\n",
      "The interquartile range of Tumor Volume is: 8.33\n",
      "The the median of Tumor Volume is: 40.67 \n",
      "Values below \u001b[1;31m24.18\u001b[00m could be outliers.\n",
      "Values above \u001b[1;31m57.5\u001b[00m could be outliers.\n",
      "\n",
      "===================================================================\n",
      "\n",
      "For the Drug Regimen: \u001b[1;34;43m Capomulin \u001b[00m, here are the results:\n",
      "-------------------\n",
      "The Total of Tumor Volume is: \u001b[1;31m9,355\u001b[00m\n",
      "The lower quartile of Tumor Volume is: 37.69\n",
      "The upper quartile of Tumor Volume is: 45.0\n",
      "The interquartile range of Tumor Volume is: 7.31\n",
      "The the median of Tumor Volume is: 41.56 \n",
      "Values below \u001b[1;31m26.72\u001b[00m could be outliers.\n",
      "Values above \u001b[1;31m55.96\u001b[00m could be outliers.\n",
      "\n",
      "===================================================================\n",
      "\n",
      "For the Drug Regimen: \u001b[1;34;43m Ceftamin \u001b[00m, here are the results:\n",
      "-------------------\n",
      "The Total of Tumor Volume is: \u001b[1;31m9,361\u001b[00m\n",
      "The lower quartile of Tumor Volume is: 47.21\n",
      "The upper quartile of Tumor Volume is: 56.8\n",
      "The interquartile range of Tumor Volume is: 9.59\n",
      "The the median of Tumor Volume is: 51.78 \n",
      "Values below \u001b[1;31m32.83\u001b[00m could be outliers.\n",
      "Values above \u001b[1;31m71.18\u001b[00m could be outliers.\n",
      "\n",
      "===================================================================\n",
      "\n",
      "For the Drug Regimen: \u001b[1;34;43m Infubinol \u001b[00m, here are the results:\n",
      "-------------------\n",
      "The Total of Tumor Volume is: \u001b[1;31m9,413\u001b[00m\n",
      "The lower quartile of Tumor Volume is: 47.31\n",
      "The upper quartile of Tumor Volume is: 57.31\n",
      "The interquartile range of Tumor Volume is: 10.0\n",
      "The the median of Tumor Volume is: 51.82 \n",
      "Values below \u001b[1;31m32.31\u001b[00m could be outliers.\n",
      "Values above \u001b[1;31m72.31\u001b[00m could be outliers.\n",
      "\n",
      "===================================================================\n",
      "\n"
     ]
    }
   ],
   "source": [
    "# Calculate the final tumor volume of each mouse across four of the most promising treatment regimens. Calculate the IQR and quantitatively determine if there are any potential outliers.\n",
    "promis_drug_df = summary_tbl_df.nsmallest(max_promising_drgReg, \"Tumor Volume Std. Err.\")\n",
    "\n",
    "lis_of_prom_drug = list(promis_drug_df.index.values)\n",
    "combined_boxplot_data = []\n",
    "x_axis = []\n",
    "for eachname in lis_of_prom_drug:\n",
    "    x_axis.append(eachname)\n",
    "    filtered_grp_data = comb_data.loc[comb_data['Drug Regimen']==eachname, ['Drug Regimen', 'Tumor Volume (mm3)']]\n",
    "    list_eachname_tumorVol = list(filtered_grp_data['Tumor Volume (mm3)'])\n",
    "    combined_boxplot_data.append(list_eachname_tumorVol)\n",
    "    \n",
    "    #  Quartiles Calculations\n",
    "    print(f'For the Drug Regimen: \\033[1;34;43m {eachname} \\033[00m, here are the results:')\n",
    "    print('-------------------')\n",
    "    total_tum_vol = int(filtered_grp_data['Tumor Volume (mm3)'].sum())\n",
    "    quartiles = filtered_grp_data['Tumor Volume (mm3)'].quantile([.25,.5,.75])\n",
    "    lowerq = round(quartiles[0.25], 2)\n",
    "    upperq = round(quartiles[0.75], 2)\n",
    "    medq = round(quartiles[0.5], 2)\n",
    "    iqr = round(upperq-lowerq, 2)\n",
    "    print(f\"The Total of Tumor Volume is: \\033[1;31m{total_tum_vol:,}\\033[00m\")\n",
    "    print(f\"The lower quartile of Tumor Volume is: {lowerq}\")\n",
    "    print(f\"The upper quartile of Tumor Volume is: {upperq}\")\n",
    "    print(f\"The interquartile range of Tumor Volume is: {iqr}\")\n",
    "    print(f\"The the median of Tumor Volume is: {medq} \")\n",
    "\n",
    "    lower_bound = round(lowerq - (1.5*iqr), 2)\n",
    "    upper_bound = round(upperq + (1.5*iqr), 2)\n",
    "    print(f\"Values below \\033[1;31m{lower_bound}\\033[00m could be outliers.\")\n",
    "    print(f\"Values above \\033[1;31m{upper_bound}\\033[00m could be outliers.\")\n",
    "    print('')\n",
    "    print('===================================================================')\n",
    "    print('')"
   ]
  },
  {
   "cell_type": "code",
   "execution_count": 9,
   "metadata": {},
   "outputs": [
    {
     "data": {
      "image/png": "[encoded data removed]",
      "text/plain": [
       "<Figure size 432x288 with 1 Axes>"
      ]
     },
     "metadata": {
      "needs_background": "light"
     },
     "output_type": "display_data"
    }
   ],
   "source": [
    "# Generate a box plot of the final tumor volume of each mouse across four regimens of interest\n",
    "combined_boxplot_data\n",
    "fig1, ax1 = plt.subplots()\n",
    "ax1.set_title('Box Plot')\n",
    "ax1.set_xlabel('Drug Regimen')\n",
    "ax1.set_ylabel('Tumor Volume Total')\n",
    "ax1.set_xticklabels(x_axis)\n",
    "ax1.boxplot(combined_boxplot_data)\n",
    "plt.show()"
   ]
  },
  {
   "cell_type": "code",
   "execution_count": null,
   "metadata": {},
   "outputs": [],
   "source": []
  },
  {
   "cell_type": "markdown",
   "metadata": {},
   "source": [
    "## Line and scatter plots"
   ]
  },
  {
   "cell_type": "code",
   "execution_count": 10,
   "metadata": {},
   "outputs": [
    {
     "data": {
      "image/png": "[encoded data removed]",
      "text/plain": [
       "<Figure size 432x288 with 1 Axes>"
      ]
     },
     "metadata": {
      "needs_background": "light"
     },
     "output_type": "display_data"
    }
   ],
   "source": [
    "# Generate a line plot of time point versus tumor volume for a mouse treated with Capomulin\n",
    "capomulin_data_time = comb_data.loc[(comb_data['Drug Regimen']==\"Capomulin\") & (comb_data['Mouse ID']==\"l509\"), :]\n",
    "x_axis = capomulin_data_time['Timepoint']\n",
    "y_axis = capomulin_data_time['Tumor Volume (mm3)']\n",
    "plt.plot(x_axis, y_axis)\n",
    "plt.xlabel(\"Timepoint(days)\")\n",
    "plt.ylabel(\"Tumor Volume (mm3)\")\n",
    "plt.show()"
   ]
  },
  {
   "cell_type": "code",
   "execution_count": 11,
   "metadata": {},
   "outputs": [
    {
     "data": {
      "image/png": "[encoded data removed]",
      "text/plain": [
       "<Figure size 432x288 with 1 Axes>"
      ]
     },
     "metadata": {
      "needs_background": "light"
     },
     "output_type": "display_data"
    }
   ],
   "source": [
    "# Generate a scatter plot of mouse weight versus average tumor volume for the Capomulin regimen\n",
    "\n",
    "capomulin_data_wgt = comb_data.loc[(comb_data['Drug Regimen']==\"Capomulin\"), :]\n",
    "capomulin_data_wgt = capomulin_data_wgt.groupby([\"Mouse ID\"])\n",
    "capomulin_aver_weight = capomulin_data_wgt[\"Weight (g)\"].mean()\n",
    "capomulin_aver_tumor_vol= capomulin_data_wgt[\"Tumor Volume (mm3)\"].mean()\n",
    "\n",
    "\n",
    "plt.scatter(x=capomulin_aver_weight, y=capomulin_aver_tumor_vol,color='green')\n",
    "plt.xlabel(\"Average Mouse Weights / Mouse ID\")\n",
    "plt.ylabel(\"Average Tumor Volumes / Mouse ID\")\n",
    "plt.show()\n",
    "            "
   ]
  },
  {
   "cell_type": "code",
   "execution_count": 12,
   "metadata": {},
   "outputs": [
    {
     "name": "stdout",
     "output_type": "stream",
     "text": [
      "--------------------------------------------------\n",
      "The Correlation Coefficient is: \u001b[1;34m 0.84 \u001b[00m\n",
      "--------------------------------------------------\n",
      "The Linear Regression Model: \u001b[1;31m y = 0.95x + 21.55 \u001b[00m\n",
      "--------------------------------------------------\n"
     ]
    },
    {
     "data": {
      "image/png": "[encoded data removed]",
      "text/plain": [
       "<Figure size 432x288 with 1 Axes>"
      ]
     },
     "metadata": {
      "needs_background": "light"
     },
     "output_type": "display_data"
    }
   ],
   "source": [
    "# Calculate the correlation coefficient and linear regression model for mouse weight and average tumor volume for the Capomulin regimen\n",
    "plt_slope, plt_incpt, plt_rval, plt_pval, plt_stderr = st.linregress(capomulin_aver_weight, capomulin_aver_tumor_vol)\n",
    "\n",
    "# Curve fit model\n",
    "plt_lin_fit = plt_slope * capomulin_aver_weight + plt_incpt\n",
    "\n",
    "# create string for curve fit equation\n",
    "line_eq = \"y = \" + str(round(plt_slope,2)) + \"x + \" + str(round(plt_incpt,2))\n",
    "\n",
    "print(f'--------------------------------------------------\\nThe Correlation Coefficient is: \\033[1;34m {round(plt_rval, 2)} \\033[00m\\\n",
    "\\n--------------------------------------------------')\n",
    "\n",
    "print(f'The Linear Regression Model: \\033[1;31m {line_eq} \\033[00m\\\n",
    "\\n--------------------------------------------------')\n",
    "\n",
    "\n",
    "# Plot the linear model on top of scatter plot \n",
    "plt.scatter(capomulin_aver_weight,capomulin_aver_tumor_vol)\n",
    "plt.plot(capomulin_aver_weight,plt_lin_fit, color='green', linestyle='dashed')\n",
    "plt.xticks(capomulin_aver_weight)\n",
    "plt.xlabel(\"Average Mouse Weights / Mouse ID\")\n",
    "plt.ylabel(\"Average Tumor Volumes / Mouse ID\")\n",
    "line_eq = \"y = \" + str(round(plt_slope,2)) + \"x + \" + str(round(plt_incpt,2))\n",
    "plt.annotate(line_eq,(18,36),fontsize=15,color=\"red\")\n",
    "plt.show()"
   ]
  },
  {
   "cell_type": "code",
   "execution_count": null,
   "metadata": {},
   "outputs": [],
   "source": []
  }
 ],
 "metadata": {
  "anaconda-cloud": {},
  "kernelspec": {
   "display_name": "Python 3",
   "language": "python",
   "name": "python3"
  },
  "language_info": {
   "codemirror_mode": {
    "name": "ipython",
    "version": 3
   },
   "file_extension": ".py",
   "mimetype": "text/x-python",
   "name": "python",
   "nbconvert_exporter": "python",
   "pygments_lexer": "ipython3",
   "version": "3.7.6"
  }
 },
 "nbformat": 4,
 "nbformat_minor": 4
}
